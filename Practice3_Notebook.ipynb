{
 "cells": [
  {
   "cell_type": "code",
   "execution_count": 1,
   "metadata": {
    "scrolled": true
   },
   "outputs": [],
   "source": [
    "import pandas as pd\n",
    "import numpy as np\n",
    "import matplotlib.pyplot as plt\n",
    "from sklearn.model_selection import train_test_split\n",
    "from sklearn.metrics import accuracy_score\n",
    "from sklearn.metrics import classification_report\n",
    "# Models\n",
    "from sklearn import svm \n",
    "from sklearn import tree\n",
    "from sklearn import linear_model"
   ]
  },
  {
   "cell_type": "code",
   "execution_count": 2,
   "metadata": {
    "scrolled": true
   },
   "outputs": [],
   "source": [
    "#Import CSV and get labels and data\n",
    "train_set = pd.read_csv('./train.csv')\n",
    "label_set = train_set['label']\n",
    "train_set = train_set.drop('label', axis = 1)"
   ]
  },
  {
   "cell_type": "code",
   "execution_count": 3,
   "metadata": {
    "scrolled": true
   },
   "outputs": [
    {
     "data": {
      "text/plain": [
       "42000"
      ]
     },
     "execution_count": 3,
     "metadata": {},
     "output_type": "execute_result"
    }
   ],
   "source": [
    "# Check size of dataset imported\n",
    "label_set.size"
   ]
  },
  {
   "cell_type": "code",
   "execution_count": 4,
   "metadata": {
    "scrolled": true
   },
   "outputs": [],
   "source": [
    "# Prints a sample, code from Instructions\n",
    "def printIndex(sample):\n",
    "    sample=sample.values.reshape((28,28))\n",
    "    plt.imshow(sample,cmap='gray')\n",
    "    plt.show()"
   ]
  },
  {
   "cell_type": "code",
   "execution_count": 5,
   "metadata": {
    "scrolled": true
   },
   "outputs": [],
   "source": [
    "# Set up models with params and frames to save scores in.\n",
    "data_set_sizes = [625, 1250, 6250, 12500, 25000]\n",
    "# poly kernel has better results than linear\n",
    "svm_model = svm.SVC(kernel = 'poly', decision_function_shape = 'ovo')\n",
    "tree_model = tree.DecisionTreeClassifier()\n",
    "lr_model = linear_model.LogisticRegression()\n",
    "svm_scores = []\n",
    "tree_scores = []\n",
    "lr_scores = []\n",
    "\n",
    "# Supress futurewarnings from output\n",
    "import warnings\n",
    "warnings.filterwarnings(\"ignore\", category = FutureWarning)"
   ]
  },
  {
   "cell_type": "code",
   "execution_count": 6,
   "metadata": {
    "scrolled": false
   },
   "outputs": [
    {
     "data": {
      "image/png": "[encoded data removed]",
      "text/plain": [
       "<Figure size 432x288 with 1 Axes>"
      ]
     },
     "metadata": {
      "needs_background": "light"
     },
     "output_type": "display_data"
    },
    {
     "name": "stdout",
     "output_type": "stream",
     "text": [
      "Predicted:  9\n"
     ]
    },
    {
     "data": {
      "image/png": "[encoded data removed]",
      "text/plain": [
       "<Figure size 432x288 with 1 Axes>"
      ]
     },
     "metadata": {
      "needs_background": "light"
     },
     "output_type": "display_data"
    },
    {
     "name": "stdout",
     "output_type": "stream",
     "text": [
      "Predicted:  4\n"
     ]
    },
    {
     "data": {
      "image/png": "[encoded data removed]",
      "text/plain": [
       "<Figure size 432x288 with 1 Axes>"
      ]
     },
     "metadata": {
      "needs_background": "light"
     },
     "output_type": "display_data"
    },
    {
     "name": "stdout",
     "output_type": "stream",
     "text": [
      "Predicted:  4\n"
     ]
    },
    {
     "data": {
      "image/png": "[encoded data removed]",
      "text/plain": [
       "<Figure size 432x288 with 1 Axes>"
      ]
     },
     "metadata": {
      "needs_background": "light"
     },
     "output_type": "display_data"
    },
    {
     "name": "stdout",
     "output_type": "stream",
     "text": [
      "Predicted:  9\n"
     ]
    },
    {
     "data": {
      "image/png": "[encoded data removed]",
      "text/plain": [
       "<Figure size 432x288 with 1 Axes>"
      ]
     },
     "metadata": {
      "needs_background": "light"
     },
     "output_type": "display_data"
    },
    {
     "name": "stdout",
     "output_type": "stream",
     "text": [
      "Predicted:  5\n"
     ]
    },
    {
     "data": {
      "image/png": "[encoded data removed]",
      "text/plain": [
       "<Figure size 432x288 with 1 Axes>"
      ]
     },
     "metadata": {
      "needs_background": "light"
     },
     "output_type": "display_data"
    },
    {
     "name": "stdout",
     "output_type": "stream",
     "text": [
      "Predicted:  2\n"
     ]
    },
    {
     "data": {
      "image/png": "[encoded data removed]",
      "text/plain": [
       "<Figure size 432x288 with 1 Axes>"
      ]
     },
     "metadata": {
      "needs_background": "light"
     },
     "output_type": "display_data"
    },
    {
     "name": "stdout",
     "output_type": "stream",
     "text": [
      "Predicted:  9\n",
      "Accuracy:  0.72\n"
     ]
    }
   ],
   "source": [
    "# Print smaller dataset to check which are being predicted incorrectly\n",
    "set_X = train_set.iloc[0:125]\n",
    "set_Y = label_set.iloc[0:125]\n",
    "X_train, X_test, y_train, y_test = train_test_split(set_X, set_Y, test_size=0.2, random_state=21)\n",
    "# Fit all models\n",
    "svm_model.fit(X_train, y_train)\n",
    "tree_model.fit(X_train, y_train)\n",
    "lr_model.fit(X_train, y_train)\n",
    "# Predict \n",
    "svm_pred = svm_model.predict(X_test)\n",
    "tree_pred = tree_model.predict(X_test)\n",
    "lr_pred = lr_model.predict(X_test)\n",
    "\n",
    "\n",
    "for x in range(0, 24):\n",
    "    if(lr_pred[x] != y_test.iloc[x]):\n",
    "        printIndex(X_test.iloc[x])\n",
    "        print(\"Predicted: \", lr_pred[x])\n",
    "\n",
    "print(\"Accuracy: \", accuracy_score(y_test, lr_pred))"
   ]
  },
  {
   "cell_type": "code",
   "execution_count": 7,
   "metadata": {
    "scrolled": false
   },
   "outputs": [
    {
     "name": "stdout",
     "output_type": "stream",
     "text": [
      "Testing Models at Size:   625\n",
      "SVM at size:  625\n",
      "              precision    recall  f1-score   support\n",
      "\n",
      "           0       0.88      0.82      0.85        17\n",
      "           1       0.71      0.92      0.80        13\n",
      "           2       1.00      0.69      0.82        13\n",
      "           3       0.87      0.93      0.90        14\n",
      "           4       0.75      0.75      0.75        12\n",
      "           5       0.85      0.92      0.88        12\n",
      "           6       0.91      0.77      0.83        13\n",
      "           7       0.86      0.67      0.75         9\n",
      "           8       0.57      0.57      0.57         7\n",
      "           9       0.78      0.93      0.85        15\n",
      "\n",
      "   micro avg       0.82      0.82      0.82       125\n",
      "   macro avg       0.82      0.80      0.80       125\n",
      "weighted avg       0.83      0.82      0.82       125\n",
      "\n",
      "Accuracy:  0.816\n",
      "Tree at size:  625\n",
      "              precision    recall  f1-score   support\n",
      "\n",
      "           0       0.86      0.71      0.77        17\n",
      "           1       0.92      0.92      0.92        13\n",
      "           2       0.57      0.62      0.59        13\n",
      "           3       0.83      0.71      0.77        14\n",
      "           4       0.50      0.50      0.50        12\n",
      "           5       0.38      0.42      0.40        12\n",
      "           6       0.64      0.54      0.58        13\n",
      "           7       0.70      0.78      0.74         9\n",
      "           8       0.33      0.43      0.38         7\n",
      "           9       0.53      0.60      0.56        15\n",
      "\n",
      "   micro avg       0.63      0.63      0.63       125\n",
      "   macro avg       0.63      0.62      0.62       125\n",
      "weighted avg       0.65      0.63      0.64       125\n",
      "\n",
      "Accuracy:  0.632\n",
      "Logistic Regression at size:  625\n",
      "              precision    recall  f1-score   support\n",
      "\n",
      "           0       0.94      0.94      0.94        17\n",
      "           1       0.92      0.85      0.88        13\n",
      "           2       0.83      0.77      0.80        13\n",
      "           3       0.87      0.93      0.90        14\n",
      "           4       0.88      0.58      0.70        12\n",
      "           5       1.00      0.83      0.91        12\n",
      "           6       0.92      0.85      0.88        13\n",
      "           7       0.88      0.78      0.82         9\n",
      "           8       0.50      0.71      0.59         7\n",
      "           9       0.71      1.00      0.83        15\n",
      "\n",
      "   micro avg       0.84      0.84      0.84       125\n",
      "   macro avg       0.84      0.82      0.83       125\n",
      "weighted avg       0.86      0.84      0.84       125\n",
      "\n",
      "Accuracy:  0.84\n",
      "Testing Models at Size:   1250\n",
      "SVM at size:  1250\n",
      "              precision    recall  f1-score   support\n",
      "\n",
      "           0       0.95      0.86      0.90        22\n",
      "           1       0.69      0.90      0.78        20\n",
      "           2       0.91      0.88      0.90        34\n",
      "           3       0.92      0.88      0.90        26\n",
      "           4       0.93      0.86      0.89        29\n",
      "           5       0.73      0.89      0.80        18\n",
      "           6       0.96      0.96      0.96        28\n",
      "           7       0.84      0.87      0.85        30\n",
      "           8       0.95      0.80      0.87        25\n",
      "           9       0.88      0.83      0.86        18\n",
      "\n",
      "   micro avg       0.88      0.88      0.88       250\n",
      "   macro avg       0.88      0.87      0.87       250\n",
      "weighted avg       0.89      0.88      0.88       250\n",
      "\n",
      "Accuracy:  0.876\n",
      "Tree at size:  1250\n",
      "              precision    recall  f1-score   support\n",
      "\n",
      "           0       0.80      0.73      0.76        22\n",
      "           1       0.83      0.95      0.88        20\n",
      "           2       0.64      0.68      0.66        34\n",
      "           3       0.54      0.50      0.52        26\n",
      "           4       0.74      0.79      0.77        29\n",
      "           5       0.58      0.61      0.59        18\n",
      "           6       0.78      0.75      0.76        28\n",
      "           7       0.92      0.77      0.84        30\n",
      "           8       0.68      0.68      0.68        25\n",
      "           9       0.55      0.61      0.58        18\n",
      "\n",
      "   micro avg       0.71      0.71      0.71       250\n",
      "   macro avg       0.71      0.71      0.70       250\n",
      "weighted avg       0.71      0.71      0.71       250\n",
      "\n",
      "Accuracy:  0.708\n",
      "Logistic Regression at size:  1250\n",
      "              precision    recall  f1-score   support\n",
      "\n",
      "           0       0.92      1.00      0.96        22\n",
      "           1       0.82      0.90      0.86        20\n",
      "           2       0.83      0.88      0.86        34\n",
      "           3       0.79      0.88      0.84        26\n",
      "           4       0.91      0.69      0.78        29\n",
      "           5       0.80      0.67      0.73        18\n",
      "           6       0.97      1.00      0.98        28\n",
      "           7       0.80      0.93      0.86        30\n",
      "           8       0.78      0.56      0.65        25\n",
      "           9       0.65      0.72      0.68        18\n",
      "\n",
      "   micro avg       0.83      0.83      0.83       250\n",
      "   macro avg       0.83      0.82      0.82       250\n",
      "weighted avg       0.83      0.83      0.83       250\n",
      "\n",
      "Accuracy:  0.832\n",
      "Testing Models at Size:   6250\n"
     ]
    },
    {
     "name": "stderr",
     "output_type": "stream",
     "text": [
      "/home/jimmy/.local/lib/python3.6/site-packages/sklearn/svm/base.py:931: ConvergenceWarning: Liblinear failed to converge, increase the number of iterations.\n",
      "  \"the number of iterations.\", ConvergenceWarning)\n"
     ]
    },
    {
     "name": "stdout",
     "output_type": "stream",
     "text": [
      "SVM at size:  6250\n",
      "              precision    recall  f1-score   support\n",
      "\n",
      "           0       0.94      0.97      0.96       115\n",
      "           1       0.94      0.98      0.96       132\n",
      "           2       0.96      0.93      0.94       128\n",
      "           3       0.98      0.92      0.95       130\n",
      "           4       0.92      0.96      0.94       110\n",
      "           5       0.94      0.94      0.94       112\n",
      "           6       0.97      0.96      0.96       150\n",
      "           7       0.98      0.95      0.96       131\n",
      "           8       0.95      0.98      0.97       128\n",
      "           9       0.93      0.92      0.93       114\n",
      "\n",
      "   micro avg       0.95      0.95      0.95      1250\n",
      "   macro avg       0.95      0.95      0.95      1250\n",
      "weighted avg       0.95      0.95      0.95      1250\n",
      "\n",
      "Accuracy:  0.952\n",
      "Tree at size:  6250\n",
      "              precision    recall  f1-score   support\n",
      "\n",
      "           0       0.86      0.89      0.88       115\n",
      "           1       0.89      0.90      0.89       132\n",
      "           2       0.73      0.73      0.73       128\n",
      "           3       0.76      0.68      0.72       130\n",
      "           4       0.77      0.77      0.77       110\n",
      "           5       0.64      0.71      0.68       112\n",
      "           6       0.81      0.70      0.75       150\n",
      "           7       0.84      0.77      0.80       131\n",
      "           8       0.75      0.72      0.74       128\n",
      "           9       0.65      0.84      0.74       114\n",
      "\n",
      "   micro avg       0.77      0.77      0.77      1250\n",
      "   macro avg       0.77      0.77      0.77      1250\n",
      "weighted avg       0.77      0.77      0.77      1250\n",
      "\n",
      "Accuracy:  0.7688\n",
      "Logistic Regression at size:  6250\n",
      "              precision    recall  f1-score   support\n",
      "\n",
      "           0       0.87      0.87      0.87       115\n",
      "           1       0.94      0.95      0.94       132\n",
      "           2       0.82      0.81      0.82       128\n",
      "           3       0.81      0.82      0.82       130\n",
      "           4       0.90      0.79      0.84       110\n",
      "           5       0.75      0.71      0.73       112\n",
      "           6       0.90      0.87      0.89       150\n",
      "           7       0.92      0.80      0.86       131\n",
      "           8       0.65      0.74      0.69       128\n",
      "           9       0.63      0.75      0.69       114\n",
      "\n",
      "   micro avg       0.82      0.82      0.82      1250\n",
      "   macro avg       0.82      0.81      0.81      1250\n",
      "weighted avg       0.82      0.82      0.82      1250\n",
      "\n",
      "Accuracy:  0.8152\n",
      "Testing Models at Size:   12500\n"
     ]
    },
    {
     "name": "stderr",
     "output_type": "stream",
     "text": [
      "/home/jimmy/.local/lib/python3.6/site-packages/sklearn/svm/base.py:931: ConvergenceWarning: Liblinear failed to converge, increase the number of iterations.\n",
      "  \"the number of iterations.\", ConvergenceWarning)\n"
     ]
    },
    {
     "name": "stdout",
     "output_type": "stream",
     "text": [
      "SVM at size:  12500\n",
      "              precision    recall  f1-score   support\n",
      "\n",
      "           0       0.97      0.98      0.98       259\n",
      "           1       0.96      0.99      0.98       270\n",
      "           2       0.96      0.96      0.96       247\n",
      "           3       0.98      0.93      0.95       247\n",
      "           4       0.97      0.97      0.97       237\n",
      "           5       0.95      0.95      0.95       239\n",
      "           6       0.99      0.98      0.98       263\n",
      "           7       0.95      0.93      0.94       238\n",
      "           8       0.93      0.95      0.94       252\n",
      "           9       0.95      0.94      0.94       248\n",
      "\n",
      "   micro avg       0.96      0.96      0.96      2500\n",
      "   macro avg       0.96      0.96      0.96      2500\n",
      "weighted avg       0.96      0.96      0.96      2500\n",
      "\n",
      "Accuracy:  0.9596\n",
      "Tree at size:  12500\n",
      "              precision    recall  f1-score   support\n",
      "\n",
      "           0       0.88      0.91      0.89       259\n",
      "           1       0.91      0.93      0.92       270\n",
      "           2       0.77      0.79      0.78       247\n",
      "           3       0.77      0.77      0.77       247\n",
      "           4       0.77      0.78      0.78       237\n",
      "           5       0.77      0.69      0.73       239\n",
      "           6       0.89      0.83      0.86       263\n",
      "           7       0.82      0.87      0.84       238\n",
      "           8       0.73      0.72      0.73       252\n",
      "           9       0.75      0.78      0.76       248\n",
      "\n",
      "   micro avg       0.81      0.81      0.81      2500\n",
      "   macro avg       0.81      0.81      0.81      2500\n",
      "weighted avg       0.81      0.81      0.81      2500\n",
      "\n",
      "Accuracy:  0.808\n",
      "Logistic Regression at size:  12500\n",
      "              precision    recall  f1-score   support\n",
      "\n",
      "           0       0.94      0.92      0.93       259\n",
      "           1       0.95      0.97      0.96       270\n",
      "           2       0.83      0.84      0.84       247\n",
      "           3       0.84      0.79      0.81       247\n",
      "           4       0.88      0.87      0.87       237\n",
      "           5       0.82      0.76      0.79       239\n",
      "           6       0.89      0.93      0.91       263\n",
      "           7       0.85      0.86      0.85       238\n",
      "           8       0.72      0.84      0.78       252\n",
      "           9       0.85      0.78      0.82       248\n",
      "\n",
      "   micro avg       0.86      0.86      0.86      2500\n",
      "   macro avg       0.86      0.85      0.86      2500\n",
      "weighted avg       0.86      0.86      0.86      2500\n",
      "\n",
      "Accuracy:  0.8568\n",
      "Testing Models at Size:   25000\n"
     ]
    },
    {
     "name": "stderr",
     "output_type": "stream",
     "text": [
      "/home/jimmy/.local/lib/python3.6/site-packages/sklearn/svm/base.py:931: ConvergenceWarning: Liblinear failed to converge, increase the number of iterations.\n",
      "  \"the number of iterations.\", ConvergenceWarning)\n"
     ]
    },
    {
     "name": "stdout",
     "output_type": "stream",
     "text": [
      "SVM at size:  25000\n",
      "              precision    recall  f1-score   support\n",
      "\n",
      "           0       0.98      0.98      0.98       490\n",
      "           1       0.97      0.99      0.98       543\n",
      "           2       0.97      0.96      0.97       537\n",
      "           3       0.96      0.96      0.96       541\n",
      "           4       0.97      0.97      0.97       476\n",
      "           5       0.94      0.95      0.95       459\n",
      "           6       0.98      0.98      0.98       486\n",
      "           7       0.97      0.98      0.97       523\n",
      "           8       0.95      0.95      0.95       463\n",
      "           9       0.95      0.94      0.95       482\n",
      "\n",
      "   micro avg       0.97      0.97      0.97      5000\n",
      "   macro avg       0.97      0.97      0.97      5000\n",
      "weighted avg       0.97      0.97      0.97      5000\n",
      "\n",
      "Accuracy:  0.9654\n",
      "Tree at size:  25000\n",
      "              precision    recall  f1-score   support\n",
      "\n",
      "           0       0.90      0.90      0.90       490\n",
      "           1       0.91      0.92      0.92       543\n",
      "           2       0.81      0.78      0.79       537\n",
      "           3       0.76      0.79      0.77       541\n",
      "           4       0.84      0.83      0.83       476\n",
      "           5       0.74      0.75      0.75       459\n",
      "           6       0.87      0.84      0.85       486\n",
      "           7       0.86      0.85      0.85       523\n",
      "           8       0.76      0.75      0.75       463\n",
      "           9       0.82      0.84      0.83       482\n",
      "\n",
      "   micro avg       0.83      0.83      0.83      5000\n",
      "   macro avg       0.83      0.83      0.83      5000\n",
      "weighted avg       0.83      0.83      0.83      5000\n",
      "\n",
      "Accuracy:  0.8262\n",
      "Logistic Regression at size:  25000\n",
      "              precision    recall  f1-score   support\n",
      "\n",
      "           0       0.90      0.94      0.92       490\n",
      "           1       0.92      0.95      0.93       543\n",
      "           2       0.91      0.86      0.88       537\n",
      "           3       0.88      0.89      0.88       541\n",
      "           4       0.90      0.88      0.89       476\n",
      "           5       0.88      0.84      0.86       459\n",
      "           6       0.92      0.93      0.93       486\n",
      "           7       0.91      0.89      0.90       523\n",
      "           8       0.83      0.85      0.84       463\n",
      "           9       0.85      0.88      0.86       482\n",
      "\n",
      "   micro avg       0.89      0.89      0.89      5000\n",
      "   macro avg       0.89      0.89      0.89      5000\n",
      "weighted avg       0.89      0.89      0.89      5000\n",
      "\n",
      "Accuracy:  0.8904\n"
     ]
    }
   ],
   "source": [
    "# Create data for multiple sizes\n",
    "for size in data_set_sizes:\n",
    "    print(\"Testing Models at Size:  \", size)\n",
    "    # Get data by size and Split\n",
    "    set_X = train_set.iloc[0:size]\n",
    "    set_Y = label_set.iloc[0:size]\n",
    "    X_train, X_test, y_train, y_test = train_test_split(set_X, set_Y, test_size=0.2, random_state=21)\n",
    "    # Fit all models\n",
    "    svm_model.fit(X_train, y_train)\n",
    "    tree_model.fit(X_train, y_train)\n",
    "    lr_model.fit(X_train, y_train)\n",
    "    # Predict \n",
    "    svm_pred = svm_model.predict(X_test)\n",
    "    tree_pred = tree_model.predict(X_test)\n",
    "    lr_pred = lr_model.predict(X_test)\n",
    "    # Save scores\n",
    "    svm_scores.append(accuracy_score(y_test, svm_pred))\n",
    "    tree_scores.append(accuracy_score(y_test, tree_pred))\n",
    "    lr_scores.append(accuracy_score(y_test, lr_pred))\n",
    "    print(\"SVM at size: \", size)\n",
    "    print(classification_report(y_test, svm_pred))\n",
    "    print(\"Accuracy: \", accuracy_score(y_test, svm_pred))\n",
    "    print(\"Tree at size: \", size)\n",
    "    print(classification_report(y_test, tree_pred))\n",
    "    print(\"Accuracy: \", accuracy_score(y_test, tree_pred))\n",
    "    print(\"Logistic Regression at size: \", size)\n",
    "    print(classification_report(y_test, lr_pred))\n",
    "    print(\"Accuracy: \", accuracy_score(y_test, lr_pred))"
   ]
  },
  {
   "cell_type": "code",
   "execution_count": 8,
   "metadata": {
    "scrolled": false
   },
   "outputs": [
    {
     "name": "stderr",
     "output_type": "stream",
     "text": [
      "/home/jimmy/.local/lib/python3.6/site-packages/sklearn/svm/base.py:931: ConvergenceWarning: Liblinear failed to converge, increase the number of iterations.\n",
      "  \"the number of iterations.\", ConvergenceWarning)\n"
     ]
    },
    {
     "name": "stdout",
     "output_type": "stream",
     "text": [
      "SVM at size:  25000\n",
      "              precision    recall  f1-score   support\n",
      "\n",
      "           0       0.99      0.98      0.98       823\n",
      "           1       0.99      0.98      0.98       897\n",
      "           2       0.98      0.97      0.98       805\n",
      "           3       0.96      0.97      0.97       817\n",
      "           4       0.96      0.98      0.97       817\n",
      "           5       0.97      0.97      0.97       805\n",
      "           6       0.99      0.98      0.98       891\n",
      "           7       0.98      0.98      0.98       892\n",
      "           8       0.97      0.97      0.97       804\n",
      "           9       0.96      0.97      0.97       849\n",
      "\n",
      "   micro avg       0.97      0.97      0.97      8400\n",
      "   macro avg       0.97      0.97      0.97      8400\n",
      "weighted avg       0.98      0.97      0.98      8400\n",
      "\n",
      "Tree at size:  25000\n",
      "              precision    recall  f1-score   support\n",
      "\n",
      "           0       0.92      0.91      0.91       823\n",
      "           1       0.96      0.94      0.95       914\n",
      "           2       0.83      0.84      0.83       794\n",
      "           3       0.83      0.81      0.82       845\n",
      "           4       0.84      0.86      0.85       811\n",
      "           5       0.81      0.80      0.81       818\n",
      "           6       0.87      0.92      0.89       845\n",
      "           7       0.90      0.90      0.90       886\n",
      "           8       0.79      0.80      0.80       801\n",
      "           9       0.85      0.84      0.84       863\n",
      "\n",
      "   micro avg       0.86      0.86      0.86      8400\n",
      "   macro avg       0.86      0.86      0.86      8400\n",
      "weighted avg       0.86      0.86      0.86      8400\n",
      "\n",
      "Logistic Regression at size:  25000\n",
      "              precision    recall  f1-score   support\n",
      "\n",
      "           0       0.96      0.95      0.95       824\n",
      "           1       0.97      0.94      0.95       917\n",
      "           2       0.86      0.90      0.88       768\n",
      "           3       0.89      0.89      0.89       825\n",
      "           4       0.91      0.93      0.92       813\n",
      "           5       0.86      0.89      0.88       780\n",
      "           6       0.94      0.94      0.94       884\n",
      "           7       0.92      0.93      0.93       873\n",
      "           8       0.89      0.85      0.87       845\n",
      "           9       0.90      0.89      0.89       871\n",
      "\n",
      "   micro avg       0.91      0.91      0.91      8400\n",
      "   macro avg       0.91      0.91      0.91      8400\n",
      "weighted avg       0.91      0.91      0.91      8400\n",
      "\n"
     ]
    }
   ],
   "source": [
    "# Test with full set\n",
    "\n",
    "X_train, X_test, y_train, y_test = train_test_split(train_set, label_set, test_size=0.2, random_state=21)\n",
    "# Fit all models\n",
    "svm_model.fit(X_train, y_train)\n",
    "tree_model.fit(X_train, y_train)\n",
    "lr_model.fit(X_train, y_train)\n",
    "# Predict \n",
    "svm_pred = svm_model.predict(X_test)\n",
    "tree_pred = tree_model.predict(X_test)\n",
    "lr_pred = lr_model.predict(X_test)\n",
    "# Save scores\n",
    "svm_scores.append(accuracy_score(svm_pred, y_test))\n",
    "tree_scores.append(accuracy_score(tree_pred, y_test))\n",
    "lr_scores.append(accuracy_score(lr_pred, y_test))\n",
    "print(\"SVM at size: \", size)\n",
    "print(classification_report(svm_pred, y_test))\n",
    "print(\"Tree at size: \", size)\n",
    "print(classification_report(tree_pred, y_test))\n",
    "print(\"Logistic Regression at size: \", size)\n",
    "print(classification_report(lr_pred, y_test))"
   ]
  },
  {
   "cell_type": "code",
   "execution_count": null,
   "metadata": {
    "scrolled": true
   },
   "outputs": [],
   "source": []
  }
 ],
 "metadata": {
  "kernelspec": {
   "display_name": "Python 3",
   "language": "python",
   "name": "python3"
  },
  "language_info": {
   "codemirror_mode": {
    "name": "ipython",
    "version": 3
   },
   "file_extension": ".py",
   "mimetype": "text/x-python",
   "name": "python",
   "nbconvert_exporter": "python",
   "pygments_lexer": "ipython3",
   "version": "3.6.7"
  }
 },
 "nbformat": 4,
 "nbformat_minor": 2
}
